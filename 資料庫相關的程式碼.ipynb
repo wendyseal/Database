{
  "nbformat": 4,
  "nbformat_minor": 0,
  "metadata": {
    "colab": {
      "name": "資料庫相關的程式碼.ipynb",
      "provenance": [],
      "collapsed_sections": [],
      "authorship_tag": "ABX9TyOPaw+MsniFspxgPdEKO32K",
      "include_colab_link": true
    },
    "kernelspec": {
      "name": "python3",
      "display_name": "Python 3"
    }
  },
  "cells": [
    {
      "cell_type": "markdown",
      "metadata": {
        "id": "view-in-github",
        "colab_type": "text"
      },
      "source": [
        "<a href=\"https://colab.research.google.com/github/wendyseal/Database/blob/master/%E8%B3%87%E6%96%99%E5%BA%AB%E7%9B%B8%E9%97%9C%E7%9A%84%E7%A8%8B%E5%BC%8F%E7%A2%BC.ipynb\" target=\"_parent\"><img src=\"https://colab.research.google.com/assets/colab-badge.svg\" alt=\"Open In Colab\"/></a>"
      ]
    },
    {
      "cell_type": "markdown",
      "metadata": {
        "id": "xXFK3dVe2s4x"
      },
      "source": [
        "SQL語法內不要使用雙引號，一律使用單引號。"
      ]
    },
    {
      "cell_type": "markdown",
      "metadata": {
        "id": "APOd1RcCeWeT"
      },
      "source": [
        "# 請輸入資料庫帳號密碼(必)"
      ]
    },
    {
      "cell_type": "code",
      "metadata": {
        "id": "hQTzFNx7iE5_",
        "outputId": "ce58c2c9-18fb-46eb-ae78-fe45a9bb2c47",
        "colab": {
          "base_uri": "https://localhost:8080/",
          "height": 52
        }
      },
      "source": [
        "host=input('請輸入資料庫host:')\n",
        "database=input('請輸入資料庫password:')\n",
        "username=input('請輸入資料庫username:')\n",
        "password=input('請輸入資料庫password:')"
      ],
      "execution_count": null,
      "outputs": [
        {
          "output_type": "stream",
          "text": [
            "請輸入資料庫username:wendy\n",
            "請輸入資料庫password:aiqazwsx\n"
          ],
          "name": "stdout"
        }
      ]
    },
    {
      "cell_type": "markdown",
      "metadata": {
        "id": "xy9pguWSvkyE"
      },
      "source": [
        "# 連線資料庫(必)"
      ]
    },
    {
      "cell_type": "markdown",
      "metadata": {
        "id": "23GNhAS_vCph"
      },
      "source": [
        "database"
      ]
    },
    {
      "cell_type": "code",
      "metadata": {
        "id": "kNLkNpSgvgNR",
        "outputId": "acb096f1-a49b-450a-a7d8-1f64ad678b0c",
        "colab": {
          "base_uri": "https://localhost:8080/",
          "height": 89
        }
      },
      "source": [
        "import psycopg2\n",
        "# import psycopg2.DatabaseError\n",
        "conn=psycopg2.connect(database=database ,user=username,password=password,host=host,port=\"5432\")\n",
        "cur=conn.cursor()\n",
        "print('Connection successful!')"
      ],
      "execution_count": null,
      "outputs": [
        {
          "output_type": "stream",
          "text": [
            "/usr/local/lib/python3.6/dist-packages/psycopg2/__init__.py:144: UserWarning: The psycopg2 wheel package will be renamed from release 2.8; in order to keep installing from binary please use \"pip install psycopg2-binary\" instead. For details see: <http://initd.org/psycopg/docs/install.html#binary-install-from-pypi>.\n",
            "  \"\"\")\n"
          ],
          "name": "stderr"
        },
        {
          "output_type": "stream",
          "text": [
            "Connection successful!\n"
          ],
          "name": "stdout"
        }
      ]
    },
    {
      "cell_type": "markdown",
      "metadata": {
        "id": "sShhdXlgxMNi"
      },
      "source": [
        "# 選取資料(選)"
      ]
    },
    {
      "cell_type": "code",
      "metadata": {
        "id": "_nYW4Muoxhp9"
      },
      "source": [
        "#SQL-修改需要查詢的欄位(*表示全部欄位) table名稱 搜尋條件\n",
        "SQL1=\"SELECT * FROM tablename WHERE column = 'value'\"\n",
        "try:\n",
        "    cur.execute(SQL1)\n",
        "    records = cur.fetchall()\n",
        "except Exception as error:\n",
        "    print(f'Error{error}')\n",
        "\n",
        "print(records)"
      ],
      "execution_count": null,
      "outputs": []
    },
    {
      "cell_type": "code",
      "metadata": {
        "id": "iInDvc9X0WsQ"
      },
      "source": [
        "SQL1=\"SELECT * FROM pages WHERE title like '%第5頁-NO.1%'\"\n",
        "try:\n",
        "    cur.execute(SQL1)\n",
        "    records = cur.fetchall()\n",
        "except Exception as error:\n",
        "    print(f'Error{error}')\n",
        "\n",
        "\n",
        "print(len(records))\n",
        "print(records)"
      ],
      "execution_count": null,
      "outputs": []
    },
    {
      "cell_type": "markdown",
      "metadata": {
        "id": "oMPfa5jCvYX5"
      },
      "source": [
        "# 新增資料(選)"
      ]
    },
    {
      "cell_type": "code",
      "metadata": {
        "id": "Z1NKnnm7vNBc"
      },
      "source": [
        "#給予資料變數值\n",
        "\n",
        "#SQL-修改table名稱 column名稱 data對應的變數\n",
        "SQL2 = \"INSERT INTO products(column1,column2,column3,column4,column5) VALUES(%s, %s, %s, %s, %s)\"\n",
        "data=(value1,value2,value3,value4,value5)\n",
        "    try:            \n",
        "        cur.execute(SQL2, data)\n",
        "        conn.commit()\n",
        "        print(f\"====================新增1筆資料==========================\")\n",
        "    except psycopg2.DatabaseError as error:\n",
        "        print(f'Error{error}')"
      ],
      "execution_count": null,
      "outputs": []
    },
    {
      "cell_type": "markdown",
      "metadata": {
        "id": "OFAE9znqyyuI"
      },
      "source": [
        "# 更新資料(選)"
      ]
    },
    {
      "cell_type": "code",
      "metadata": {
        "id": "MrPi3W_iyp5n"
      },
      "source": [
        "#給予資料變數值\n",
        "\n",
        "#SQL-修改table名稱 column名稱及欲修改成的值 選取條件\n",
        "SQL3 = \"UPDATE tablename SET (column1, column2 )= ('value1','value2') WHERE page_id= XXXX;\"\n",
        "    try:            \n",
        "        cur.execute(SQL3)\n",
        "        conn.commit()\n",
        "        print(f\"====================更新1筆資料==========================\")\n",
        "    except psycopg2.DatabaseError as error:\n",
        "        print(f'Error{error}')\n",
        "\n",
        "# 透過查詢檢查結果:\n",
        "# SQL = SELECT * FROM tablename WHERE column = 'value'\n",
        "# cur.execute(SQL)\n",
        "# records = cur.fetchall()"
      ],
      "execution_count": null,
      "outputs": []
    },
    {
      "cell_type": "markdown",
      "metadata": {
        "id": "EXuJHwKW0yow"
      },
      "source": [
        "# 刪除資料"
      ]
    },
    {
      "cell_type": "code",
      "metadata": {
        "id": "SKsFZweq4Su8"
      },
      "source": [
        "SQL = \"select * from products where gender_type is NULL\"\n",
        "try:            \n",
        "    cur.execute(SQL)\n",
        "    records = cur.fetchall()    \n",
        "except psycopg2.DatabaseError as error:\n",
        "        print(f'Error{error}')\n",
        "print(records)\n",
        "listx=[]\n",
        "for r in records:\n",
        "    print(type(r))\n",
        "    new=list(r)\n",
        "    id=new[0]\n",
        "    listx.append(id)\n",
        "    print(id)\n",
        "print(listx)"
      ],
      "execution_count": null,
      "outputs": []
    },
    {
      "cell_type": "code",
      "metadata": {
        "id": "frq39h3n_4mV"
      },
      "source": [
        "\n",
        "SQL = \"select * from pages where id>=5363433 and id<=5387484;\"\n",
        "try:            \n",
        "    cur.execute(SQL)\n",
        "    records = cur.fetchall()    \n",
        "except psycopg2.DatabaseError as error:\n",
        "        print(f'Error{error}')\n",
        "print(records)\n",
        "for i,ele in enumerate(records):\n",
        "    print(i,ele)\n",
        "# listx=[]\n",
        "# for r in records:\n",
        "#     print(type(r))\n",
        "#     new=list(r)\n",
        "#     id=new[0]\n",
        "#     listx.append(id)\n",
        "#     print(id)\n",
        "# print(listx)"
      ],
      "execution_count": null,
      "outputs": []
    },
    {
      "cell_type": "code",
      "metadata": {
        "id": "vwxjPhMD0uE0"
      },
      "source": [
        "\n",
        "SQL4 = f\"DELETE FROM pages WHERE page_id>=5363433 and page_id<=5387484 ;\"\n",
        "try:            \n",
        "    cur.execute(SQL4)\n",
        "    conn.commit()\n",
        "    print(f\"====================刪除資料==========================\")\n",
        "except psycopg2.DatabaseError as error:\n",
        "    print(f'Error{error}')"
      ],
      "execution_count": null,
      "outputs": []
    },
    {
      "cell_type": "markdown",
      "metadata": {
        "id": "652nFxRlv7Uq"
      },
      "source": [
        "# 結束資料庫連線(必)"
      ]
    },
    {
      "cell_type": "code",
      "metadata": {
        "id": "wY8eS82Rv4S4"
      },
      "source": [
        "conn.close()"
      ],
      "execution_count": null,
      "outputs": []
    }
  ]
}